{
 "cells": [
  {
   "cell_type": "markdown",
   "metadata": {},
   "source": [
    "Homework 3: n-gram LM\n",
    "----\n",
    "\n",
    "Due date: October 4th, 2024\n",
    "\n",
    "Points: 45\n",
    "\n",
    "Goals:\n",
    "- understand the difficulties of counting and probablities in NLP applications\n",
    "- work with real world data to build a functioning language model\n",
    "- stress test your model (to some extent)\n",
    "\n",
    "Complete in groups of: __one (individually)__\n",
    "\n",
    "Allowed python modules:\n",
    "- `numpy`, `matplotlib`, and all built-in python libraries (e.g. `math` and `string`)\n",
    "- do not use `nltk` or `pandas`\n",
    "\n",
    "Instructions:\n",
    "- Complete outlined problems in this notebook. \n",
    "- When you have finished, __clear the kernel__ and __run__ your notebook \"fresh\" from top to bottom. Ensure that there are __no errors__. \n",
    "    - If a problem asks for you to write code that does result in an error (as in, the answer to the problem is an error), leave the code in your notebook but commented out so that running from top to bottom does not result in any errors.\n",
    "- Double check that you have completed Task 0.\n",
    "- Submit your work on Gradescope.\n",
    "- Double check that your submission on Gradescope looks like you believe it should __and__ that all partners are included (for partner work).\n",
    "\n",
    "<b>Helpful Links</b>\n",
    "1. Object Oriented Programming in Python : https://www.geeksforgeeks.org/python-oops-concepts/\n",
    "2. GradeScope FAQ : https://northeastern.instructure.com/courses/188094/pages/gradescope-faq-slash-debugging?module_item_id=10969242"
   ]
  },
  {
   "cell_type": "markdown",
   "metadata": {},
   "source": [
    "Task 0: Name, References, Reflection (5 points)\n",
    "---\n",
    "\n",
    "Name: Ryan Tietjen\n",
    "\n",
    "References\n",
    "---\n",
    "List the resources you consulted to complete this homework here. Write one sentence per resource about what it provided to you. If you consulted no references to complete your assignment, write a brief sentence stating that this is the case and why it was the case for you.\n",
    "\n",
    "(Example)\n",
    "- https://docs.python.org/3/tutorial/datastructures.html\n",
    "    - Read about the the basics and syntax for data structures in python.\n",
    "\n",
    "AI Collaboration\n",
    "---\n",
    "Following the *AI Collaboration Policy* in the syllabus, please cite any LLMs that you used here and briefly describe what you used them for. Additionally, provide comments in-line identifying the specific sections that you used LLMs on, if you used them towards the generation of any of your \n",
    "answers.\n",
    "\n",
    "I used ChatGPT-4 to assist in many portions of this assignment. Nothing in this file had chat-gpt assistance, only in lm_model.py. In-line comments describe how/what I used AI assistance for.\n",
    "\n",
    "Reflection\n",
    "----\n",
    "Answer the following questions __after__ you complete this assignment (no more than 1 sentence per question required, this section is graded on completion):\n",
    "\n",
    "1. Does this work reflect your best effort?\n",
    "\n",
    "I think this work mostly reflects my best effort, though I could have abstained from using AI. Using ChatGPT was able to help me significantly. I think I could have done the assignment without it, but it would have been needlessly more difficult. \n",
    "\n",
    "2. What was/were the most challenging part(s) of the assignment?\n",
    "\n",
    "I think generating a random sentence was the most challenging part of this assignment.\n",
    "\n",
    "3. If you want feedback, what function(s) or problem(s) would you like feedback on and why?\n",
    "\n",
    "I'm unsure if my perplexity function is correct."
   ]
  },
  {
   "cell_type": "markdown",
   "metadata": {},
   "source": [
    "Task 1: Berp Data Write-Up (5 points)\n",
    "---\n",
    "\n",
    "Every time you use a data set in an NLP application (or in any software application), you should be able to answer a set of questions about that data. Answer these now. Default to no more than 1 sentence per question needed. If more explanation is necessary, do give it."
   ]
  },
  {
   "cell_type": "markdown",
   "metadata": {},
   "source": [
    "This is about the __berp__ data set.\n",
    "\n",
    "1. Where did you get the data from? https://github.com/wooters/berp-trans?tab=readme-ov-file \n",
    "2. How was the data collected (where did the people acquiring the data get it from and how)?\n",
    "\n",
    "The data consists of speech samples collected by recording with a Sennheiser close-talking microphone sampled at 16 kHz.\n",
    "\n",
    "3. How large is the dataset? (# lines, # tokens)\n",
    "\n",
    "The dataset contains 8566 utterances (# of lines) (i.e. an unbroken flow of words) and ~1900 unique words (tokens), overall consisting of ~443MB of audio/transcripts.\n",
    "\n",
    "4. What is your data? (i.e. newswire, tweets, books, blogs, etc)\n",
    "\n",
    "The data comprises 7 hours of speech audio and the corresponding text transcripts.\n",
    "\n",
    "5. Who produced the data? (who were the authors of the text? Your answer might be a specific person or a particular group of people)\n",
    "\n",
    "The data was collected by the International Computer Science Institute (ICSI) in Berkley, CA."
   ]
  },
  {
   "cell_type": "markdown",
   "metadata": {},
   "source": [
    "Task 2: Implement an n-gram Language Model (30 points)\n",
    "----\n",
    "\n",
    "Implement the `LanguageModel` class as outlined in the provided `lm_starter.py` file. Do not change function signatures (the unit tests that we provide and in the autograder will break).\n",
    "\n",
    "Your language model:\n",
    "- *must* work for both the unigram and bigram cases (BONUS section (see end)): 5 points are allocated to an experiment involving larger values of `n`)\n",
    "    - hint: try to implement the bigram case as a generalized \"n greater than 1\" case\n",
    "- should be *token agnostic* (this means that if we give the model text tokenized as single characters, it will function as a character language model and if we give the model text tokenized as \"words\" (or \"traditionally\"), then it will function as a language model with those tokens)\n",
    "- will use Laplace smoothing\n",
    "- will replace all tokens that occur only once with `<UNK>` at train time\n",
    "    - do not add `<UNK>` to your vocabulary if no tokens in the training data occur only once!\n",
    "\n",
    "We have provided:\n",
    "- a function to read in files\n",
    "- some functions to change a list of strings into tokens\n",
    "- the skeleton of the `LanguageModel` class\n",
    "\n",
    "You need to implement:\n",
    "- all functions marked\n",
    "\n",
    "You may implement:\n",
    "- additional functions/methods as helpful to you\n",
    "\n",
    "As a guideline, including comments, and some debugging code that can be run with `verbose` parameters.\n",
    "Points breakdown marked in code below."
   ]
  },
  {
   "cell_type": "code",
   "execution_count": 1,
   "metadata": {},
   "outputs": [],
   "source": [
    "# rename your lm_starter.py file to lm_model.py and put in the same directory as this file\n",
    "import lm_model as lm\n",
    "import numpy as np\n",
    "import matplotlib.pyplot as plt"
   ]
  },
  {
   "cell_type": "code",
   "execution_count": 2,
   "metadata": {},
   "outputs": [
    {
     "name": "stdout",
     "output_type": "stream",
     "text": [
      "[('<s>', 'I', 'love'), ('I', 'love', 'dogs'), ('love', 'dogs', '</s>'), ('dogs', '</s>', '<s>'), ('</s>', '<s>', 'I'), ('<s>', 'I', 'love'), ('I', 'love', 'cats'), ('love', 'cats', '</s>'), ('cats', '</s>', '<s>'), ('</s>', '<s>', 'I'), ('<s>', 'I', 'love'), ('I', 'love', 'dinosaurs'), ('love', 'dinosaurs', '</s>')]\n"
     ]
    }
   ],
   "source": [
    "#Test create_ngrams\n",
    "from lm_model import create_ngrams\n",
    "\n",
    "training_data = [\"<s>\", \"I\", \"love\", \"dogs\", \"</s>\", \"<s>\", \"I\", \"love\", \"cats\", \"</s>\", \"<s>\", \"I\", \"love\", \"dinosaurs\", \"</s>\"]\n",
    "\n",
    "bigrams = create_ngrams(training_data, 3)\n",
    "print(bigrams)"
   ]
  },
  {
   "cell_type": "code",
   "execution_count": 3,
   "metadata": {},
   "outputs": [
    {
     "name": "stdout",
     "output_type": "stream",
     "text": [
      "[['am'], ['am', 'i', 'i', 'am', 'am']]\n",
      "[['sam', 'i', 'am'], ['i', 'am', 'sam', 'i', 'am', 'ham']]\n"
     ]
    }
   ],
   "source": [
    "# test the language model (unit tests)\n",
    "import test_minitrainingprovided as test\n",
    "\n",
    "# passing all these tests is a good indication that your model\n",
    "# is correct. They are *not a guarantee*, so make sure to look\n",
    "# at the tests and the cases that they cover. (we'll be testing\n",
    "# your model against all of the testing data in addition).\n",
    "\n",
    "# autograder points in gradescope are assigned SIXTY points\n",
    "# this is essentially 60 points for correctly implementing your\n",
    "# underlying model\n",
    "# there are an additional 10 points manually graded for the correctness\n",
    "# parts of your sentence generation\n",
    "\n",
    "# make sure all training files are in a \"training_files\" directory \n",
    "# that is in the same directory as this notebook\n",
    "\n",
    "unittest = test.TestMiniTraining()\n",
    "unittest.test_createunigrammodellaplace()\n",
    "unittest.test_createbigrammodellaplace()\n",
    "unittest.test_unigramlaplace()\n",
    "unittest.test_unigramunknownslaplace()\n",
    "unittest.test_bigramlaplace()\n",
    "unittest.test_bigramunknownslaplace()\n",
    "# produces output\n",
    "unittest.test_generateunigramconcludes()\n",
    "# # produces output\n",
    "unittest.test_generatebigramconcludes()\n",
    "\n",
    "unittest.test_onlyunknownsgenerationandscoring()"
   ]
  },
  {
   "cell_type": "code",
   "execution_count": 4,
   "metadata": {},
   "outputs": [
    {
     "name": "stdout",
     "output_type": "stream",
     "text": [
      "i would like to go for dinner this sunday\n",
      "i have dinner\n",
      "i like to find a list\n",
      "start over\n",
      "can eat on the icsi\n",
      "uh cheap would like to icsi\n",
      "how about joshu-ya\n",
      "spats\n",
      "any distance\n",
      "metropole\n"
     ]
    }
   ],
   "source": [
    "# 10 points\n",
    "\n",
    "# instantiate a bigram language model, train it, and generate ten sentences\n",
    "# make sure your output is nicely formatted!\n",
    "ngram = 2\n",
    "training_file_path = \"training_files/berp-training.txt\"\n",
    "# optional parameter tells the tokenize function how to tokenize\n",
    "by_char = False\n",
    "data = lm.read_file(training_file_path)\n",
    "tokens = lm.tokenize(data, ngram, by_char=by_char)\n",
    "\n",
    "# YOUR CODE HERE\n",
    "model = lm.LanguageModel(ngram)\n",
    "model.train(tokens)\n",
    "for i in range(10):\n",
    "    sentence = model.generate_sentence()\n",
    "    print(' '.join(sentence))"
   ]
  },
  {
   "cell_type": "code",
   "execution_count": 5,
   "metadata": {},
   "outputs": [
    {
     "name": "stdout",
     "output_type": "stream",
     "text": [
      "Mean Score: 4.9620823627262653e-05\n",
      "Standard Deviation: 0.000285298086084196\n"
     ]
    }
   ],
   "source": [
    "# 5 points\n",
    "\n",
    "# evaluate your bigram model on the test data\n",
    "# score each line in the test data individually, then calculate the average score\n",
    "# you need not re-train your model\n",
    "test_path = \"testing_files/berp-test.txt\"\n",
    "test_data = lm.read_file(test_path)\n",
    "\n",
    "scores = []\n",
    "\n",
    "# YOUR CODE HERE\n",
    "for line in test_data:\n",
    "    tokens = lm.tokenize([line], ngram, by_char=by_char)\n",
    "    score = model.score(tokens)\n",
    "    scores.append(score)\n",
    "\n",
    "\n",
    "# Print out the mean score and standard deviation\n",
    "# for words-as-tokens, these values should be\n",
    "# ~4.9 * 10^-5 and 0.000285\n",
    "print(\"Mean Score:\", np.mean(scores))\n",
    "print(\"Standard Deviation:\", np.std(scores))\n"
   ]
  },
  {
   "cell_type": "code",
   "execution_count": 6,
   "metadata": {},
   "outputs": [
    {
     "name": "stdout",
     "output_type": "stream",
     "text": [
      "Cancer is the crab that attacked this hero who was battling the Hydra\n",
      "It's the \"insect\" newspaper published in California's state capital\n",
      "Fittingly, this Maryland fort was built in a star shape\n"
     ]
    }
   ],
   "source": [
    "# 15 points total\n",
    "\n",
    "import pandas as pd\n",
    "\n",
    "df = pd.read_csv('jeopardy_csv.csv')\n",
    "df = df.astype(str)\n",
    "df.columns = df.columns.str.replace(\" \", '_') #Column names have spaces in front of them for some reason\n",
    "n_grams = 2\n",
    "\n",
    "\n",
    "# see if you can train your model on the data you found for your first homework (5 points)\n",
    "text_data = df[\"_Question\"].tolist()\n",
    "tokens = lm.tokenize(text_data, n_grams, by_char=False)\n",
    "model = lm.LanguageModel(n_grams)\n",
    "model.train(tokens)\n",
    "\n",
    "\n",
    "# what is the maximum value of n <= 10 that you can train a model *in your programming environment* in a reasonable amount of time? (less than 3 - 5 minutes)\n",
    "# On my hardward, this takes < 30 seconds\n",
    "n_grams = 10\n",
    "tokens = lm.tokenize(text_data, n_grams, by_char=False)\n",
    "model = lm.LanguageModel(n_grams)\n",
    "model.train(tokens)\n",
    "\n",
    "\n",
    "# generate three sentences with this model (10 points)\n",
    "for _ in range(3):\n",
    "    sentence = model.generate_sentence() \n",
    "    print(' '.join(sentence))\n"
   ]
  },
  {
   "cell_type": "markdown",
   "metadata": {},
   "source": [
    "BONUS\n",
    "----\n",
    "Implement the corresponding function and evaluate the perplexity of your model on the first 20 lines in the test data for values of `n` from 1 to 3. Perplexity should be individually calculated for each line."
   ]
  },
  {
   "cell_type": "code",
   "execution_count": 7,
   "metadata": {},
   "outputs": [
    {
     "name": "stdout",
     "output_type": "stream",
     "text": [
      "********\n",
      "Ngram model: 1\n",
      "Perplexity: 2524.214 - a vegetarian meal\n",
      "Perplexity: 13118.762 - about ten miles\n",
      "Perplexity: 9397.729 - and i'm willing to drive ten miles\n",
      "Perplexity: 11003.382 - and this will be for dinner\n",
      "Perplexity: 20511.115 - are any of these restaurants open for breakfast\n",
      "Perplexity: 21954.323 - are there russian restaurants in berkeley\n",
      "Perplexity: 16386.394 - between fifteen and twenty dollars\n",
      "Perplexity: 15568.036 - can you at least list the nationality of these restaurants\n",
      "Perplexity: 10766.743 - can you give me more information on viva taqueria\n",
      "Perplexity: 32631.478 - dining\n",
      "Perplexity: 4405.348 - display sizzler\n",
      "Perplexity: 21289.683 - do you have indonesian food\n",
      "Perplexity: 3377.835 - do you know any pizza places\n",
      "Perplexity: 43146.106 - doesn't matter\n",
      "Perplexity: 1757.782 - eat on a weekday\n",
      "Perplexity: 10240.824 - eight dollars\n",
      "Perplexity: 19626.228 - expensive\n",
      "Perplexity: 6261.899 - five miles\n",
      "Perplexity: 16049.226 - give me the list of restaurants in berkeley\n",
      "Perplexity: 11946.521 - how about italian and quite expensive is fine\n",
      "********\n",
      "Ngram model: 2\n",
      "Perplexity: 9111.743 - a vegetarian meal\n",
      "Perplexity: 43558.225 - about ten miles\n",
      "Perplexity: 31961.714 - and i'm willing to drive ten miles\n",
      "Perplexity: 23035.535 - and this will be for dinner\n",
      "Perplexity: 48563.808 - are any of these restaurants open for breakfast\n",
      "Perplexity: 54897.296 - are there russian restaurants in berkeley\n",
      "Perplexity: 33760.267 - between fifteen and twenty dollars\n",
      "Perplexity: 40225.962 - can you at least list the nationality of these restaurants\n",
      "Perplexity: 29968.104 - can you give me more information on viva taqueria\n",
      "Perplexity: 25539.973 - dining\n",
      "Perplexity: 9724.573 - display sizzler\n",
      "Perplexity: 39516.817 - do you have indonesian food\n",
      "Perplexity: 9126.178 - do you know any pizza places\n",
      "Perplexity: 53184.925 - doesn't matter\n",
      "Perplexity: 11454.99 - eat on a weekday\n",
      "Perplexity: 17141.617 - eight dollars\n",
      "Perplexity: 24770.053 - expensive\n",
      "Perplexity: 18681.714 - five miles\n",
      "Perplexity: 41026.536 - give me the list of restaurants in berkeley\n",
      "Perplexity: 26477.818 - how about italian and quite expensive is fine\n",
      "********\n",
      "Ngram model: 3\n",
      "Perplexity: 10976.121 - a vegetarian meal\n",
      "Perplexity: 28253.621 - about ten miles\n",
      "Perplexity: 46181.89 - and i'm willing to drive ten miles\n",
      "Perplexity: 32484.895 - and this will be for dinner\n",
      "Perplexity: 58346.573 - are any of these restaurants open for breakfast\n",
      "Perplexity: 52380.551 - are there russian restaurants in berkeley\n",
      "Perplexity: 45606.815 - between fifteen and twenty dollars\n",
      "Perplexity: 64128.922 - can you at least list the nationality of these restaurants\n",
      "Perplexity: 51289.334 - can you give me more information on viva taqueria\n",
      "Perplexity: 10516.862 - dining\n",
      "Perplexity: 18876.21 - display sizzler\n",
      "Perplexity: 42652.158 - do you have indonesian food\n",
      "Perplexity: 27959.838 - do you know any pizza places\n",
      "Perplexity: 27506.953 - doesn't matter\n",
      "Perplexity: 17175.499 - eat on a weekday\n",
      "Perplexity: 19272.823 - eight dollars\n",
      "Perplexity: 16426.473 - expensive\n",
      "Perplexity: 16819.965 - five miles\n",
      "Perplexity: 52200.235 - give me the list of restaurants in berkeley\n",
      "Perplexity: 50555.268 - how about italian and quite expensive is fine\n"
     ]
    }
   ],
   "source": [
    "test_path = \"testing_files/berp-test.txt\"\n",
    "test_data = lm.read_file(test_path)\n",
    "\n",
    "for ngram in range(1, 4):\n",
    "    print(\"********\")\n",
    "    print(\"Ngram model:\", ngram)\n",
    "    tokens = lm.tokenize(text_data, ngram, by_char=False)\n",
    "    model = lm.LanguageModel(ngram)\n",
    "    model.train(tokens)\n",
    "    \n",
    "    for line in test_data[:20]:\n",
    "        tokenized_line = lm.tokenize([line], ngram)\n",
    "        print(f\"Perplexity: {round(model.perplexity(tokenized_line), 3)} - {line.strip()}\")"
   ]
  },
  {
   "cell_type": "markdown",
   "metadata": {},
   "source": [
    "1. What are the common attributes of the test sentences that cause very high perplexity? \n",
    "\n",
    "__It seems like test sentences that are longer tend to have higher perplexity. As it follows, more complex sentences tend to have higher perplexity. Furthermore, it seems like the test setences that are questions tend to have higher perplexity. Also, higher ngrams result in higher perplexities__"
   ]
  },
  {
   "cell_type": "markdown",
   "metadata": {},
   "source": [
    "5 points in this assignment are reserved for overall style (both for writing and for code submitted). All work submitted should be clear, easily interpretable, and checked for spelling, etc. (Re-read what you write and make sure it makes sense). Course staff are always happy to give grammatical help (but we won't pre-grade the content of your answers)."
   ]
  },
  {
   "cell_type": "markdown",
   "metadata": {},
   "source": []
  }
 ],
 "metadata": {
  "kernelspec": {
   "display_name": "Python 3 (ipykernel)",
   "language": "python",
   "name": "python3"
  },
  "language_info": {
   "codemirror_mode": {
    "name": "ipython",
    "version": 3
   },
   "file_extension": ".py",
   "mimetype": "text/x-python",
   "name": "python",
   "nbconvert_exporter": "python",
   "pygments_lexer": "ipython3",
   "version": "3.11.5"
  }
 },
 "nbformat": 4,
 "nbformat_minor": 4
}
