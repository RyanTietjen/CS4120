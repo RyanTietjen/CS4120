{
 "cells": [
  {
   "cell_type": "markdown",
   "metadata": {
    "id": "mgcbfoWGCArp"
   },
   "source": [
    "Homework 1: Python, Strings, Data, Scale\n",
    "----\n",
    "\n",
    "Due date: September 11th, 2024 at **9:00 pm**\n",
    "\n",
    "Late due date (see syllabus for details): September 13, 2024 at **9:00 pm**\n",
    "\n",
    "Points: 42\n",
    "\n",
    "Files to submit:\n",
    "- `data_scale.ipynb`\n",
    "- `yourdatafilefortask3and4` (See task 3. This file will most likely be a `.txt` or `.csv`, but can be any)\n",
    "\n",
    "Goals:\n",
    "- ensure that your python environment is set up and running\n",
    "- learn/review python skills regarding `string`s, data structures, and file manipulation\n",
    "\n",
    "Complete in groups of: __one (individually)__\n",
    "\n",
    "Allowed python modules:\n",
    "- Note that all necessary modules have already been imported for you for this assignment. (you may import any standard python libraries, plotting libraries as you'd like)\n",
    "\n",
    "\n",
    "Instructions:\n",
    "- Complete outlined problems in this notebook.\n",
    "- When you have finished, __clear the kernel__ and run your notebook \"fresh\" from top to bottom. Ensure that there are __no errors__.\n",
    "    - If a problem asks for you to write code that does result in an error (as in, the answer to the problem is an error), leave the code in your notebook but commented out so that running from top to bottom does not result in any errors.\n",
    "- Double check that you have completed Task 0.\n",
    "- Submit your work on Gradescope.\n",
    "- Double check that your submission on Gradescope looks like you believe it should\n",
    "\n"
   ]
  },
  {
   "cell_type": "markdown",
   "metadata": {
    "id": "ZCfjQmcHCArt"
   },
   "source": [
    "Task 0: Name, References, Reflection (5 points)\n",
    "---\n",
    "\n",
    "TODO: complete this section\n",
    "\n",
    "Name: Ryan Tietjen\n",
    "\n",
    "References\n",
    "---\n",
    "List the resources you consulted to complete this homework here. Write one sentence per resource about what it provided to you. If you consulted no references to complete your assignment, write a brief sentence stating that this is the case and why it was the case for you.\n",
    "\n",
    "(Example)\n",
    "- https://docs.python.org/3/tutorial/datastructures.html\n",
    "    - Read about the the basics and syntax for data structures in python.\n",
    "- https://pandas.pydata.org/docs/reference/frame.html\n",
    "    - Provides information and functions regarding using dataframes, used to load in custom data \n",
    "\n",
    "AI Collaboration\n",
    "---\n",
    "\n",
    "Please do not use large language models for this assignment. If you are using co-pilot, this is acceptable but *make sure* you test your code. For all future assignments, follow the AI Collaboration Policy, to be published during the second week of class.\n",
    "\n",
    "Reflection\n",
    "----\n",
    "Answer the following questions __after__ you complete this assignment (no more than 1 sentence per question required, this section is graded on completion):\n",
    "\n",
    "1. Does this work reflect your best effort?\n",
    "\n",
    "This work mostly reflects my best effort: I could have spent hours demonstrating the functionality of each function, but this is effectively needless.\n",
    "\n",
    "2. What was/were the most challenging part(s) of the assignment?\n",
    "\n",
    "The most challenging part for me was remembering how to use DataFrames provided by pandas.\n",
    "\n",
    "3. If you want feedback, what function(s) or problem(s) would you like feedback on and why?\n",
    "\n",
    "I would want feedback for the problem regarding making the graph. I feel there should have been some relevant time differences between each function, but there does not appear to be any.\n",
    "\n",
    "\n",
    "\n"
   ]
  },
  {
   "cell_type": "markdown",
   "metadata": {
    "id": "HwkPcx4SCArv"
   },
   "source": [
    "Task 1: Python Warm-up (8 points)\n",
    "----\n",
    "\n",
    "We'll warm-up by either learning about or reviewing `string`s, `for` loops, `range()`, and `list`s.\n",
    "\n",
    "Links to relevant documentation:\n",
    "- [strings](https://docs.python.org/3/library/string.html)\n",
    "- [for loops](https://wiki.python.org/moin/ForLoop)\n",
    "- [lists](https://docs.python.org/3/tutorial/datastructures.html)"
   ]
  },
  {
   "cell_type": "code",
   "execution_count": 1,
   "metadata": {
    "id": "hAy792ONCArw"
   },
   "outputs": [
    {
     "name": "stdout",
     "output_type": "stream",
     "text": [
      "H\n",
      "e\n",
      "l\n",
      "l\n",
      "o\n",
      " \n",
      "W\n",
      "o\n",
      "r\n",
      "l\n",
      "d\n"
     ]
    }
   ],
   "source": [
    "# define a string variable, then\n",
    "# using a for loop, iterate through the letters of a string\n",
    "string = \"Hello World\"\n",
    "for char in string:\n",
    "    print(char)"
   ]
  },
  {
   "cell_type": "code",
   "execution_count": 2,
   "metadata": {
    "id": "Dy85tJNACArz"
   },
   "outputs": [
    {
     "name": "stdout",
     "output_type": "stream",
     "text": [
      "Gods\n",
      "of\n",
      "Death\n",
      "who\n",
      "love\n",
      "apples\n",
      "have\n",
      "red\n",
      "hands\n"
     ]
    }
   ],
   "source": [
    "# define a list variable, then\n",
    "# using a for loop, iterate through the contents of a list\n",
    "list_of_words = [\"Gods\", \"of\", \"Death\", \"who\", \"love\", \"apples\", \"have\", \"red\", \"hands\"]\n",
    "for word in list_of_words:\n",
    "    print(word)"
   ]
  },
  {
   "cell_type": "code",
   "execution_count": 3,
   "metadata": {
    "id": "1xPMxSiXCArz"
   },
   "outputs": [
    {
     "name": "stdout",
     "output_type": "stream",
     "text": [
      "Gods\n",
      "Death\n",
      "love\n",
      "have\n",
      "hands\n"
     ]
    }
   ],
   "source": [
    "# define a string variable, then\n",
    "# using a for loop and the range() function, print out every other token\n",
    "# (you may assume tokens are separated by spaces) in the string\n",
    "string = \"Gods of Death who love apples have red hands\"\n",
    "tokens = string.split(\" \")\n",
    "for i in range(len(tokens)):\n",
    "    if i % 2 == 0:\n",
    "        print(tokens[i])"
   ]
  },
  {
   "cell_type": "code",
   "execution_count": 4,
   "metadata": {
    "id": "Ywu7E92pCAr1"
   },
   "outputs": [
    {
     "name": "stdout",
     "output_type": "stream",
     "text": [
      "split(): ['Gods', 'of', 'Death;', 'who', 'love', 'apples;', 'have', 'red', 'hands']\n",
      "split(' '): ['Gods', '', '', 'of', 'Death;', 'who', 'love', 'apples;', 'have', 'red', 'hands']\n",
      "split(;): ['Gods   of Death', ' who love apples', ' have red hands']\n",
      "split('love'): ['Gods   of Death; who ', ' apples; have red hands']\n"
     ]
    }
   ],
   "source": [
    "# demonstrate the difference(s) between calling python's\n",
    "# str.split() function like str.split(' ') and str.split()\n",
    "string = \"Gods   of Death; who love apples; have red hands\"\n",
    "\n",
    "example_one = string.split()\n",
    "print(f\"split(): {example_one}\")\n",
    "\n",
    "example_two = string.split(' ')\n",
    "print(f\"split(' '): {example_two}\")\n",
    "\n",
    "example_three = string.split(';')\n",
    "print(f\"split(;): {example_three}\")\n",
    "\n",
    "example_four = string.split('love')\n",
    "print(f\"split('love'): {example_four}\")"
   ]
  },
  {
   "cell_type": "markdown",
   "metadata": {
    "id": "bYRienJhCAr2"
   },
   "source": [
    "Task 2: Timing Python Functions (15 points)\n",
    "----\n",
    "\n",
    "In this section, we'll explore efficiency and python data structures.\n",
    "You'll work on increasing your familiarity with `list`s, `dict`s, and [`Counter`](https://docs.python.org/3/library/collections.html#collections.Counter)s.\n",
    "\n",
    "Notice that in our python function headers, we include [type hints](https://docs.python.org/3/library/typing.html)."
   ]
  },
  {
   "cell_type": "code",
   "execution_count": 5,
   "metadata": {
    "id": "Nsn1FCtgCAr2"
   },
   "outputs": [],
   "source": [
    "# for timing\n",
    "import time\n",
    "\n",
    "# for our fancier data structure\n",
    "from collections import Counter\n",
    "\n",
    "# for type hinting\n",
    "from typing import Callable\n",
    "\n",
    "# for graphing\n",
    "import matplotlib.pyplot as plt\n",
    "\n",
    "# for random number generation\n",
    "import random"
   ]
  },
  {
   "cell_type": "code",
   "execution_count": 6,
   "metadata": {
    "id": "T1DtrHk0CAr3"
   },
   "outputs": [
    {
     "name": "stdout",
     "output_type": "stream",
     "text": [
      "That took: 0.0 seconds!\n"
     ]
    }
   ],
   "source": [
    "# provided\n",
    "def timer(fun: Callable, tokens: list) -> float:\n",
    "    \"\"\"\n",
    "    measure (in seconds) the time that it takes to run a\n",
    "    function that operates on a list of strings (tokens)\n",
    "\n",
    "    Args:\n",
    "    fun: Callable\n",
    "    tokens: list\n",
    "\n",
    "    return:\n",
    "    float (seconds)\n",
    "    \"\"\"\n",
    "    start = time.time()\n",
    "    fun(tokens)\n",
    "    end = time.time()\n",
    "    return end - start\n",
    "\n",
    "# call like\n",
    "# len is the funtion that is being timed\n",
    "print(\"That took:\", timer(len, [\"this\", \"is\", \"a\", \"test\"]), \"seconds!\")"
   ]
  },
  {
   "cell_type": "code",
   "execution_count": 7,
   "metadata": {
    "id": "-i2hRcp7CAr4"
   },
   "outputs": [],
   "source": [
    "# TODO: implement the following functions (function signatures are provided for you)\n",
    "\n",
    "def count_list(tokens: list) -> dict:\n",
    "    \"\"\"\n",
    "    Count the number of occurrences of each token in a list of tokens.\n",
    "    Use the list.count() method.\n",
    "\n",
    "    Args:\n",
    "    tokens: list of items (often tokens)\n",
    "\n",
    "    return:\n",
    "    dict (mapping from token to count)\n",
    "    \"\"\"\n",
    "    count = {}\n",
    "    for token in tokens:\n",
    "        count[token] = tokens.count(token)\n",
    "    return count\n",
    "\n",
    "def count_dict(tokens: list) -> dict:\n",
    "    \"\"\"\n",
    "    Count the number of occurrences of each token in a list of tokens.\n",
    "    Do not use the list.count() method. Do not use a Counter.\n",
    "    If you would like to use any method/function other than len, it must be\n",
    "    okay'd with the teaching staff.\n",
    "\n",
    "    Args:\n",
    "    tokens: list of items (often tokens)\n",
    "\n",
    "    return:\n",
    "    dict (mapping from token to count)\n",
    "    \"\"\"\n",
    "    count = {}\n",
    "    for token in tokens:\n",
    "        if token not in count:\n",
    "            count[token] = 1\n",
    "        else:\n",
    "            count[token] += 1\n",
    "    return count\n",
    "\n",
    "def count_counter(tokens: list) -> Counter:\n",
    "    \"\"\"\n",
    "    Count the number of occurrences of each token in a list of tokens.\n",
    "    Use a Counter.\n",
    "    Do not use the list.count() method or any other list/dict functions/methods.\n",
    "\n",
    "    Args:\n",
    "    tokens: list of items (often tokens)\n",
    "\n",
    "    return:\n",
    "    Counter (mapping from token to count)\n",
    "    \"\"\"\n",
    "    return Counter(tokens)"
   ]
  },
  {
   "cell_type": "code",
   "execution_count": 8,
   "metadata": {
    "id": "2TKhkjYKCAr6"
   },
   "outputs": [
    {
     "name": "stdout",
     "output_type": "stream",
     "text": [
      "Testing count_list\n",
      "{'a': 1, 'b': 1, 'c': 1}\n",
      "{'a': 3, 'b': 2, 'c': 1}\n",
      "{3: 1, 2: 1, 1: 1}\n",
      "{3: 3, 2: 2, 1: 1}\n",
      "{}\n",
      "\n",
      "Testing count_dict\n",
      "{'a': 1, 'b': 1, 'c': 1}\n",
      "{'a': 3, 'b': 2, 'c': 1}\n",
      "{3: 1, 2: 1, 1: 1}\n",
      "{3: 3, 2: 2, 1: 1}\n",
      "{}\n",
      "\n",
      "Testing count_counter\n",
      "{'a': 1, 'b': 1, 'c': 1}\n",
      "{'a': 3, 'b': 2, 'c': 1}\n",
      "{3: 1, 2: 1, 1: 1}\n",
      "{3: 3, 2: 2, 1: 1}\n",
      "{}\n"
     ]
    }
   ],
   "source": [
    "# TODO: verify that your count_* functions are correct and consistent with one another\n",
    "\n",
    "# Make sure to test both if the list does not have duplicates and if it does\n",
    "\n",
    "case_one = [\"a\", \"b\", \"c\"] #Expected: {'a': 1, 'b': 1, 'c': 1}\n",
    "case_two = [\"a\", \"b\", \"c\", \"a\", \"b\", \"a\"] #Expected: {'a': 3, 'b': 2, 'c': 1}\n",
    "case_three = [3, 2, 1] #Expected: {3: 1, 2: 1, 1: 1}\n",
    "case_four = [3, 2, 1, 3, 2, 3] #Expected: {3: 3, 2: 2, 1: 1}\n",
    "case_empty = [] #Expected: {}\n",
    "\n",
    "print(\"Testing count_list\")\n",
    "print(count_list(case_one))\n",
    "print(count_list(case_two))\n",
    "print(count_list(case_three))\n",
    "print(count_list(case_four))\n",
    "print(count_list(case_empty))\n",
    "\n",
    "print(\"\\nTesting count_dict\")\n",
    "print(count_dict(case_one))\n",
    "print(count_dict(case_two))\n",
    "print(count_dict(case_three))\n",
    "print(count_dict(case_four))\n",
    "print(count_dict(case_empty))\n",
    "\n",
    "print(\"\\nTesting count_counter\")\n",
    "print(count_dict(case_one))\n",
    "print(count_dict(case_two))\n",
    "print(count_dict(case_three))\n",
    "print(count_dict(case_four))\n",
    "print(count_dict(case_empty))"
   ]
  },
  {
   "cell_type": "code",
   "execution_count": 9,
   "metadata": {
    "id": "IDZtei62CAr7"
   },
   "outputs": [
    {
     "name": "stdout",
     "output_type": "stream",
     "text": [
      "[7, 7, 5, 0, 9, 10, 4, 1, 1, 4]\n"
     ]
    },
    {
     "data": {
      "text/plain": [
       "<matplotlib.legend.Legend at 0x21ad8cba790>"
      ]
     },
     "execution_count": 9,
     "metadata": {},
     "output_type": "execute_result"
    },
    {
     "data": {
      "image/png": "[encoded data removed]",
      "text/plain": [
       "<Figure size 1200x1000 with 1 Axes>"
      ]
     },
     "metadata": {},
     "output_type": "display_data"
    }
   ],
   "source": [
    "# TODO: create a graph with three lines, one for each of the three count_* functions\n",
    "# x-axis should be the number of items in the list given to the function (go up to at least 500)\n",
    "# y-axis should be the time taken to run the function\n",
    "# the graph should have a legend indicating which line is which (use plt.legend() to make this happen)\n",
    "\n",
    "# you'll need to generate one (or more) list(s) of items to be counted.\n",
    "# we recommend using the random module to generate random integers\n",
    "ten_ints = [random.randint(0, 10) for i in range(10)]\n",
    "print(ten_ints)\n",
    "\n",
    "\n",
    "count_list_time = []\n",
    "count_dict_time = []\n",
    "count_counter_time = []\n",
    "\n",
    "samples = range(0, 7270, 5)\n",
    "for sample in samples:\n",
    "    many_ints = [random.randint(0, 10) for i in range(sample)]\n",
    "    count_list_time.append(timer(count_list, ten_ints))\n",
    "    count_dict_time.append(timer(count_dict, ten_ints))\n",
    "    count_counter_time.append(timer(count_counter, ten_ints))\n",
    "\n",
    "plt.figure(figsize=(12,10))\n",
    "plt.plot(samples, count_list_time, label='count_list()')\n",
    "plt.plot(samples, count_dict_time, label='count_dict()')\n",
    "plt.plot(samples, count_counter_time, label='count_counter()')\n",
    "plt.xlabel('Number of Items')\n",
    "plt.ylabel('Time To Compute (seconds)')\n",
    "plt.legend()"
   ]
  },
  {
   "cell_type": "markdown",
   "metadata": {
    "id": "AIQK8PyACAr7"
   },
   "source": [
    "Task 3: Real World Data (8 points)\n",
    "----\n",
    "\n",
    "In this section, you'll find some real world text data *of interest to you* and run some analysis on this data. The data that you choose can include labels, but if it does, do not include those labels in your counts of tokens, etc.\n",
    "\n",
    "\n",
    "Size requirements:\n",
    "- your file must contain a minimum of 10,000 tokens (as measured by at least *one* of your tokenization schemes).\n",
    "\n",
    "Here are some places to start:\n",
    "1. NLP Datasets: https://github.com/niderhoff/nlp-datasets\n",
    "2. ACL Anthology: https://aclanthology.org/\n",
    "3. Kaggle: https://www.kaggle.com/\n",
    "\n",
    "You can also use real-world data from any other source, as long as it meets the token requirement.\n",
    "\n",
    "Key vocabulary:\n",
    "\n",
    "__token__: The unit that we will operate on when processing text. Normally corresponds roughly to \"words\". We will focus on tokens during Lecture 2."
   ]
  },
  {
   "cell_type": "code",
   "execution_count": 10,
   "metadata": {
    "id": "a__CGKFiCAr8"
   },
   "outputs": [],
   "source": [
    "# TODO\n",
    "# the file should be in the same folder as this notebook because when you\n",
    "# submit this notebook, you will also submit the file and the backend of the\n",
    "# system expects them to be in the same directory\n",
    "FILE = \"JEOPARD_CSV.csv\""
   ]
  },
  {
   "cell_type": "code",
   "execution_count": 11,
   "metadata": {
    "id": "-nDScBCrCAr8"
   },
   "outputs": [
    {
     "name": "stdout",
     "output_type": "stream",
     "text": [
      "  Show_Number   _Air_Date     _Round                        _Category _Value  \\\n",
      "0        4680  2004-12-31  Jeopardy!                          HISTORY   $200   \n",
      "1        4680  2004-12-31  Jeopardy!  ESPN's TOP 10 ALL-TIME ATHLETES   $200   \n",
      "2        4680  2004-12-31  Jeopardy!      EVERYBODY TALKS ABOUT IT...   $200   \n",
      "3        4680  2004-12-31  Jeopardy!                 THE COMPANY LINE   $200   \n",
      "4        4680  2004-12-31  Jeopardy!              EPITAPHS & TRIBUTES   $200   \n",
      "\n",
      "                                           _Question     _Answer  \n",
      "0  For the last 8 years of his life, Galileo was ...  Copernicus  \n",
      "1  No. 2: 1912 Olympian; football star at Carlisl...  Jim Thorpe  \n",
      "2  The city of Yuma in this state has a record av...     Arizona  \n",
      "3  In 1963, live on \"The Art Linkletter Show\", th...  McDonald's  \n",
      "4  Signer of the Dec. of Indep., framer of the Co...  John Adams  \n",
      "Show_Number    object\n",
      "_Air_Date      object\n",
      "_Round         object\n",
      "_Category      object\n",
      "_Value         object\n",
      "_Question      object\n",
      "_Answer        object\n",
      "dtype: object\n"
     ]
    }
   ],
   "source": [
    "# read the contents of your file in, however you'd like\n",
    "import pandas as pd\n",
    "\n",
    "df = pd.read_csv('jeopardy_csv.csv')\n",
    "df = df.astype(str)\n",
    "df.columns = df.columns.str.replace(\" \", '_') #Column names have spaces in front of them for some reason\n",
    "print(df.head(5))\n",
    "print(df.dtypes)"
   ]
  },
  {
   "cell_type": "code",
   "execution_count": 12,
   "metadata": {
    "id": "xGN2S9cyCAr9"
   },
   "outputs": [
    {
     "name": "stdout",
     "output_type": "stream",
     "text": [
      "There are 216930 lines/rows\n"
     ]
    }
   ],
   "source": [
    "# how many lines are in your file?\n",
    "print(f\"There are {df.shape[0]} lines/rows\")"
   ]
  },
  {
   "cell_type": "code",
   "execution_count": 13,
   "metadata": {
    "id": "nqrCUNYLCAr9"
   },
   "outputs": [
    {
     "name": "stdout",
     "output_type": "stream",
     "text": [
      "There are 216930 tokens the in the Show_Number column\n",
      "There are 216930 tokens the in the _Air_Date column\n",
      "There are 326473 tokens the in the _Round column\n",
      "There are 547591 tokens the in the _Category column\n",
      "There are 216930 tokens the in the _Value column\n",
      "There are 3169994 tokens the in the _Question column\n",
      "There are 413484 tokens the in the _Answer column\n",
      "\n",
      "There are 5108332 total tokens\n"
     ]
    }
   ],
   "source": [
    "# tokenize your data using the str.split() function. How many tokens are there?\n",
    "total_tokens = 0\n",
    "for column in df.columns:\n",
    "    tokens = sum(df[column].str.split(' ').str.len())\n",
    "    total_tokens += tokens\n",
    "    print(f\"There are {tokens} tokens the in the {column} column\")\n",
    "print(f\"\\nThere are {total_tokens} total tokens\")"
   ]
  },
  {
   "cell_type": "markdown",
   "metadata": {
    "id": "U7d4F-qwCAr9"
   },
   "source": [
    "Task 4: Data Write-Up (6 points)\n",
    "---\n",
    "\n",
    "Every time you use a data set in an NLP application (or in any software application), you should be able to answer a set of questions about that data. Answer these now. Default to no more than 1 sentence per question needed. If more explanation is necessary, do give it.\n"
   ]
  },
  {
   "cell_type": "markdown",
   "metadata": {
    "id": "4Ykug43JCAr-"
   },
   "source": [
    "1. Where did you get the data from?\n",
    "\n",
    "The data originates from the Jepordy game show, but this specific dataset was found on Reddit.\n",
    "\n",
    "\n",
    "2. How was the data collected (where did the people acquiring the data get it from and how)?\n",
    "\n",
    "The data was obtained by web crawling https://www.j-archive.com/, a website containing previous Jeopard questions/answers.\n",
    "\n",
    "3. How large is the dataset? (copy # of lines and # of tokens from above)\n",
    "\n",
    "There are 216,930 lines and 5,108,332 total tokens in the dataset.\n",
    "\n",
    "4. Is your dataset a subset of a larger dataset or the entirety of a dataset? (e.g. the first half of reviews from the dataset.... vs. all reviews from ...)\n",
    "\n",
    "This dataset is a subset of a larger dataset: It does not contain the last 13 years of Jeopard data, nor does it contain all of the data from the relevant time period (only 83% of the questions/answers from before 2011 appear in this dataset)\n",
    "\n",
    "5. What is your data? (i.e. newswire, tweets, books, blogs, etc)\n",
    "\n",
    "The data is a set of trivia questions/answers designed for the Jeopard gameshow, but also contains information regarding category and value of the question, when the question first appeared on air, etc.\n",
    "\n",
    "6. Who produced the data? (who were the authors of the text? Your answer might be a specific person or a particular group of people)\n",
    "\n",
    "The \"authors\" of this data would be the producers/question writers of the Jeopard gameshow, but the dataset was created by user u/trexmatt on Reddit. "
   ]
  },
  {
   "cell_type": "code",
   "execution_count": null,
   "metadata": {},
   "outputs": [],
   "source": []
  }
 ],
 "metadata": {
  "colab": {
   "provenance": []
  },
  "kernelspec": {
   "display_name": "Python 3 (ipykernel)",
   "language": "python",
   "name": "python3"
  },
  "language_info": {
   "codemirror_mode": {
    "name": "ipython",
    "version": 3
   },
   "file_extension": ".py",
   "mimetype": "text/x-python",
   "name": "python",
   "nbconvert_exporter": "python",
   "pygments_lexer": "ipython3",
   "version": "3.11.5"
  }
 },
 "nbformat": 4,
 "nbformat_minor": 1
}
